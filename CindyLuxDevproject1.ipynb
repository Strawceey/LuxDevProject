{
  "cells": [
    {
      "cell_type": "markdown",
      "metadata": {
        "id": "view-in-github",
        "colab_type": "text"
      },
      "source": [
        "<a href=\"https://colab.research.google.com/github/Strawceey/LuxDevProject/blob/main/CindyLuxDevproject1.ipynb\" target=\"_parent\"><img src=\"https://colab.research.google.com/assets/colab-badge.svg\" alt=\"Open In Colab\"/></a>"
      ]
    },
    {
      "cell_type": "code",
      "execution_count": null,
      "metadata": {
        "colab": {
          "base_uri": "https://localhost:8080/"
        },
        "id": "UAm44DMs70c8",
        "outputId": "5d96b6e3-578b-46e4-9195-f6aff3cea0f2"
      },
      "outputs": [
        {
          "name": "stdout",
          "output_type": "stream",
          "text": [
            "Requirement already satisfied: kaggle in /usr/local/lib/python3.10/dist-packages (1.6.17)\n",
            "Requirement already satisfied: six>=1.10 in /usr/local/lib/python3.10/dist-packages (from kaggle) (1.16.0)\n",
            "Requirement already satisfied: certifi>=2023.7.22 in /usr/local/lib/python3.10/dist-packages (from kaggle) (2024.7.4)\n",
            "Requirement already satisfied: python-dateutil in /usr/local/lib/python3.10/dist-packages (from kaggle) (2.8.2)\n",
            "Requirement already satisfied: requests in /usr/local/lib/python3.10/dist-packages (from kaggle) (2.32.3)\n",
            "Requirement already satisfied: tqdm in /usr/local/lib/python3.10/dist-packages (from kaggle) (4.66.5)\n",
            "Requirement already satisfied: python-slugify in /usr/local/lib/python3.10/dist-packages (from kaggle) (8.0.4)\n",
            "Requirement already satisfied: urllib3 in /usr/local/lib/python3.10/dist-packages (from kaggle) (2.0.7)\n",
            "Requirement already satisfied: bleach in /usr/local/lib/python3.10/dist-packages (from kaggle) (6.1.0)\n",
            "Requirement already satisfied: webencodings in /usr/local/lib/python3.10/dist-packages (from bleach->kaggle) (0.5.1)\n",
            "Requirement already satisfied: text-unidecode>=1.3 in /usr/local/lib/python3.10/dist-packages (from python-slugify->kaggle) (1.3)\n",
            "Requirement already satisfied: charset-normalizer<4,>=2 in /usr/local/lib/python3.10/dist-packages (from requests->kaggle) (3.3.2)\n",
            "Requirement already satisfied: idna<4,>=2.5 in /usr/local/lib/python3.10/dist-packages (from requests->kaggle) (3.7)\n"
          ]
        }
      ],
      "source": [
        "! pip install kaggle"
      ]
    },
    {
      "cell_type": "code",
      "execution_count": null,
      "metadata": {
        "colab": {
          "base_uri": "https://localhost:8080/"
        },
        "id": "mXZYY1x979i4",
        "outputId": "9fa1e5c2-8e11-4c9a-86dd-e4a87298aee9"
      },
      "outputs": [
        {
          "name": "stdout",
          "output_type": "stream",
          "text": [
            "mkdir: cannot create directory ‘/root/.kaggle’: File exists\n"
          ]
        }
      ],
      "source": [
        "! mkdir ~/.kaggle"
      ]
    },
    {
      "cell_type": "code",
      "execution_count": null,
      "metadata": {
        "colab": {
          "base_uri": "https://localhost:8080/"
        },
        "id": "ilRKvamq8ERQ",
        "outputId": "d52ecce4-fb71-46fb-fd66-4b4d7d81b036"
      },
      "outputs": [
        {
          "name": "stdout",
          "output_type": "stream",
          "text": [
            "cp: cannot stat 'kaggle.json': No such file or directory\n"
          ]
        }
      ],
      "source": [
        "! cp kaggle.json ~/.kaggle/"
      ]
    },
    {
      "cell_type": "code",
      "execution_count": null,
      "metadata": {
        "colab": {
          "base_uri": "https://localhost:8080/"
        },
        "id": "YdPvz-9e8HjX",
        "outputId": "29127d9d-7bb4-46b9-85ed-9a5306dbb198"
      },
      "outputs": [
        {
          "name": "stdout",
          "output_type": "stream",
          "text": [
            "chmod: cannot access '/root/.kaggle/kaggle.json': No such file or directory\n"
          ]
        }
      ],
      "source": [
        "! chmod 600 ~/.kaggle/kaggle.json"
      ]
    },
    {
      "cell_type": "code",
      "execution_count": null,
      "metadata": {
        "colab": {
          "base_uri": "https://localhost:8080/"
        },
        "id": "_CTse1tu8LAF",
        "outputId": "959bed5b-7458-4204-e03a-479075f8de95"
      },
      "outputs": [
        {
          "name": "stdout",
          "output_type": "stream",
          "text": [
            "Dataset URL: https://www.kaggle.com/datasets/ayushmi77al/weather-data-set-for-beginners\n",
            "License(s): unknown\n",
            "weather-data-set-for-beginners.zip: Skipping, found more recently modified local copy (use --force to force download)\n"
          ]
        }
      ],
      "source": [
        "! kaggle datasets download ayushmi77al/weather-data-set-for-beginners"
      ]
    },
    {
      "cell_type": "code",
      "execution_count": null,
      "metadata": {
        "colab": {
          "background_save": true,
          "base_uri": "https://localhost:8080/"
        },
        "id": "h7Si6Nek8XZ3",
        "outputId": "5eca9a5a-1283-4031-a9f4-5120c672b4a1"
      },
      "outputs": [
        {
          "name": "stdout",
          "output_type": "stream",
          "text": [
            "Archive:  /content/weather-data-set-for-beginners.zip\n",
            "replace 1. Weather Data.csv? [y]es, [n]o, [A]ll, [N]one, [r]ename: "
          ]
        }
      ],
      "source": [
        "!unzip /content/weather-data-set-for-beginners.zip"
      ]
    },
    {
      "cell_type": "code",
      "execution_count": null,
      "metadata": {
        "id": "PI4OJQs58avl"
      },
      "outputs": [],
      "source": [
        "import pandas as pd\n",
        "import numpy as np"
      ]
    },
    {
      "cell_type": "code",
      "execution_count": null,
      "metadata": {
        "id": "c2_-YUCd8icT"
      },
      "outputs": [],
      "source": [
        "data = pd.read_csv(\"1. Weather Data.csv\")"
      ]
    },
    {
      "cell_type": "code",
      "execution_count": null,
      "metadata": {
        "id": "GiR0imzK9KZ5"
      },
      "outputs": [],
      "source": [
        "data.head()"
      ]
    },
    {
      "cell_type": "code",
      "execution_count": null,
      "metadata": {
        "id": "3qnoxsDw9T26"
      },
      "outputs": [],
      "source": [
        "data.tail()"
      ]
    },
    {
      "cell_type": "code",
      "execution_count": null,
      "metadata": {
        "id": "FS1zatLb9aVB"
      },
      "outputs": [],
      "source": [
        "data.shape"
      ]
    },
    {
      "cell_type": "code",
      "execution_count": null,
      "metadata": {
        "id": "phd4nkPp-I8R"
      },
      "outputs": [],
      "source": [
        "# Find all records where the weather was exactly clear\n",
        "clear_weather_records = data[data['Weather'] == 'Clear']\n",
        "print(\"Records where the weather was exactly clear:\")\n",
        "print(clear_weather_records)"
      ]
    },
    {
      "cell_type": "code",
      "execution_count": null,
      "metadata": {
        "id": "c-76v43A_gyo"
      },
      "outputs": [],
      "source": [
        "clear_weather_records = data[data['Weather'] == 'Clear']\n",
        "clear_weather_records.head()"
      ]
    },
    {
      "cell_type": "code",
      "execution_count": null,
      "metadata": {
        "id": "cofJpeIZ_4eH"
      },
      "outputs": [],
      "source": [
        "# Find the number of times the wind speed was exactly 4 km/hr\n",
        "wind_speed_4 = data[data['Wind Speed_km/h'] == 4].shape[0]\n",
        "print(f\"Number of times the wind speed was exactly 4 km/hr: {wind_speed_4}\")"
      ]
    },
    {
      "cell_type": "code",
      "execution_count": null,
      "metadata": {
        "id": "_tOZrDgGKwJX"
      },
      "outputs": [],
      "source": [
        "# Check for NULL values in the entire DataFrame\n",
        "null_values = data.isnull().sum()\n",
        "\n",
        "# Print the number of NULL values per column\n",
        "print(\"Number of NULL values per column:\")\n",
        "print(null_values)\n",
        "\n",
        "# Check if there are any NULL values in the entire DataFrame\n",
        "total_null_values = null_values.sum()\n",
        "print(f\"\\nTotal number of NULL values in the dataset: {total_null_values}\")"
      ]
    },
    {
      "cell_type": "code",
      "execution_count": null,
      "metadata": {
        "id": "OvXhhjoeK9op"
      },
      "outputs": [],
      "source": [
        "# Rename the column \"Weather\" to \"Weather_Condition\"\n",
        "data.rename(columns={'Weather': 'Weather_Condition'}, inplace=True)\n",
        "\n",
        "# Verify the change\n",
        "print(\"Columns after renaming:\")\n",
        "print(data.columns)"
      ]
    },
    {
      "cell_type": "code",
      "execution_count": null,
      "metadata": {
        "id": "ggpoEjhTMBIS"
      },
      "outputs": [],
      "source": [
        "# Calculate the mean visibility\n",
        "mean_visibility = data['Visibility_km'].mean()\n",
        "\n",
        "# Print the mean visibility\n",
        "print(f\"The mean visibility in the dataset is: {mean_visibility} km\")"
      ]
    },
    {
      "cell_type": "code",
      "execution_count": null,
      "metadata": {
        "id": "f10G6tfLMKXV"
      },
      "outputs": [],
      "source": [
        "# Filter records where wind speed is greater than 24 km/hr and visibility is equal to 25 km\n",
        "filtered_records = data[(data['Wind Speed_km/h'] > 24) & (data['Visibility_km'] == 25)]\n",
        "\n",
        "# Get the number of such records\n",
        "num_records = filtered_records.shape[0]\n",
        "\n",
        "# Print the result\n",
        "print(f\"Number of records where wind speed is greater than 24 km/hr and visibility is equal to 25 km: {num_records}\")"
      ]
    },
    {
      "cell_type": "code",
      "execution_count": null,
      "metadata": {
        "id": "PcfYlkwGNoOe"
      },
      "outputs": [],
      "source": [
        "# Filter the DataFrame based on the given conditions\n",
        "filtered_data = data[(data['Weather_Condition'] == 'Clear') & (data['Rel Hum_%'] > 50) | (data['Visibility_km'] > 40)]\n",
        "\n",
        "# Print the filtered DataFrame\n",
        "print(\"Instances where the weather is clear and the Rel Hum_% is greater than 50, or visibility is above 40:\")\n",
        "print(filtered_data)"
      ]
    },
    {
      "cell_type": "code",
      "execution_count": null,
      "metadata": {
        "id": "WFgv82xhOTfR"
      },
      "outputs": [],
      "source": [
        "# Find unique weather conditions that include \"Snow\"\n",
        "weather_conditions_with_snow = data[data['Weather_Condition'].str.contains('Snow', case=False, na=False)]['Weather_Condition'].unique()\n",
        "\n",
        "# Count the number of unique weather conditions that include \"Snow\"\n",
        "num_weather_conditions_with_snow = len(weather_conditions_with_snow)\n",
        "\n",
        "# Print the result\n",
        "print(f\"Number of unique weather conditions that include 'Snow': {num_weather_conditions_with_snow}\")"
      ]
    },
    {
      "cell_type": "code",
      "execution_count": null,
      "metadata": {
        "id": "p2YmEpQAQCV3"
      },
      "outputs": [],
      "source": [
        "# Calculate the mean value of the column 'Temp_C'\n",
        "mean_temp_c = data['Temp_C'].mean()\n",
        "\n",
        "# Print the mean value\n",
        "print(f\"The mean value of the column 'Temp_C' is: {mean_temp_c}°C\")"
      ]
    },
    {
      "cell_type": "code",
      "execution_count": null,
      "metadata": {
        "id": "wlLU-f5RQG_R"
      },
      "outputs": [],
      "source": [
        "# Calculate the mean value of the column 'Dew Point Temp_C'\n",
        "mean_dew_point_temp_c = data['Dew Point Temp_C'].mean()\n",
        "\n",
        "# Print the mean value\n",
        "print(f\"The mean value of the column 'Dew Point Temp_C' is: {mean_dew_point_temp_c}°C\")"
      ]
    },
    {
      "cell_type": "code",
      "execution_count": null,
      "metadata": {
        "id": "pfCoqJUOQkQW"
      },
      "outputs": [],
      "source": [
        "# Calculate the mean value of the column 'Rel Hum_%'\n",
        "mean_rel_hum = data['Rel Hum_%'].mean()\n",
        "\n",
        "# Print the mean value\n",
        "print(f\"The mean value of the column 'Rel Hum_%' is: {mean_rel_hum}%\")"
      ]
    },
    {
      "cell_type": "code",
      "execution_count": null,
      "metadata": {
        "id": "On7s0Pk0Qngt"
      },
      "outputs": [],
      "source": [
        "# Calculate the mean value of the column 'Wind Speed_km/h'\n",
        "mean_wind_speed = data['Wind Speed_km/h'].mean()\n",
        "\n",
        "# Print the mean value\n",
        "print(f\"The mean value of the column 'Wind Speed_km/h' is: {mean_wind_speed} km/h\")"
      ]
    },
    {
      "cell_type": "code",
      "execution_count": null,
      "metadata": {
        "id": "yWVHXsUHRIZU"
      },
      "outputs": [],
      "source": [
        "# Calculate the mean value of the column 'Visibility_km'\n",
        "mean_visibility_km = data['Visibility_km'].mean()\n",
        "\n",
        "# Print the mean value\n",
        "print(f\"The mean value of the column 'Visibility_km' is: {mean_visibility_km} km\")"
      ]
    },
    {
      "cell_type": "code",
      "execution_count": null,
      "metadata": {
        "id": "BEaljy0HRdGa"
      },
      "outputs": [],
      "source": [
        "# Calculate the mean value of the column 'Press_kPa'\n",
        "mean_press_kpa = data['Press_kPa'].mean()\n",
        "\n",
        "# Print the mean value\n",
        "print(f\"The mean value of the column 'Press_kPa' is: {mean_press_kpa} kPa\")"
      ]
    }
  ],
  "metadata": {
    "colab": {
      "provenance": [],
      "authorship_tag": "ABX9TyMu96H8NayUnepXJIPT6F/C",
      "include_colab_link": true
    },
    "kernelspec": {
      "display_name": "Python 3",
      "name": "python3"
    },
    "language_info": {
      "name": "python"
    }
  },
  "nbformat": 4,
  "nbformat_minor": 0
}